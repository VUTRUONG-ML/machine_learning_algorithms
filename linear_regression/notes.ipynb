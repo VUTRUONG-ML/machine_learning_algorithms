{
 "cells": [
  {
   "cell_type": "markdown",
   "id": "3d08cff1-11ec-40e3-b5cb-b3ea68164ee9",
   "metadata": {},
   "source": [
    "# LINEAR REGRESSION"
   ]
  },
  {
   "cell_type": "markdown",
   "id": "3e09e281-5a5a-4f19-9b14-4d8ca0b7cc26",
   "metadata": {},
   "source": [
    "## 1. Giới thiệu\n",
    "***Tại sao gọi là Linear regression?***\n",
    "\n",
    "-> Giống như tên gọi của nó thì linear là tuyến tính.\n",
    "\n",
    "-> Tuyến tính có nghĩa là biểu diễn 1 biến nào đó thông qua một biết khác.\n",
    "\n",
    "-> Tuyến tính sẽ biểu diễn mối quan hệ giữa các biến đó dưới dạng 1 đường thẳng.\n",
    "\n",
    "-> Trong thuật toán này thì chúng ta sẽ biểu diễn y (đầu ra) thông qua x (đầu vào) bằng một mối quan hệ nào đó."
   ]
  },
  {
   "cell_type": "markdown",
   "id": "5db54289-69a3-46bb-b895-92e469f55aba",
   "metadata": {},
   "source": [
    "***Ví dụ về tuyến tính:***\n",
    "\n",
    "- VD1: Ví dụ về dự đoán giá nhà. Giả sử các tòa nhà có các đặc điểm khác nhau như: số phòng, diện tích, vị trí thích hợp, ... thì từ các đặc điểm vừa nêu ra ta gọi đó là x, còn giá trị đầu ra của nó sẽ là giá tiền của các đặc điểm cho tòa nhà đó ta gọi là y. Vậy ở đây giá tiền cho toàn nhà y sẽ được biểu diễn thông qua một mối quan hệ nào đó với x.\n",
    "- VD2: Ví dụ về dự đoán học sinh có đậu môn thể chất hay không. Các đặc điểm của học sinh sẽ là: số giờ học, giới tính, chiều cao, cân nặng ... thì các đặc điểm này nó sẽ là x, còn giá trị đầu ra là đậu hay rớt môn thể chất ta gọi là y. Vậy ở đây đậu hay rớt môn thể chất y sẽ được biểu diễn thông qua một mối quan hệ nào đó với x.\n",
    "  "
   ]
  },
  {
   "cell_type": "markdown",
   "id": "82939ca3-480b-418e-8de1-de8ebccdaf57",
   "metadata": {},
   "source": [
    "**=> Tóm gọn lại thì ở bài toán này ta sẽ đi tìm mối quan hệ giữa x và y. Và mình sẽ gọi nó là w: y=w*x**\n",
    "\n",
    "**=> Giá trị cuối cùng ta cần tìm là w**\n",
    "-------\n",
    "\n",
    "-----------------------------------------------"
   ]
  },
  {
   "cell_type": "markdown",
   "id": "60e58185-b765-4736-81a0-fb450d12101f",
   "metadata": {},
   "source": [
    "***Với ví dụ 1***\n",
    "\n",
    "ta có:\n",
    "- y là đầu ra dự đoán\n",
    "- x1: số phòng\n",
    "- x2: diện tích\n",
    "\n",
    "Thì ta sẽ biểu diễn lại là: y1 = w11.x11 + w12.x12 **(Đối với một điểm dữ liệu)**\n",
    "\n",
    "                            .        .         .\n",
    "\n",
    "                            .        .         .\n",
    "Biểu diễn tổng quát thì: **y** = **XT.**.**w**\n",
    "\n",
    "- **y** là vector biểu diễn đầu ra của N điểm dữ liệu - shape(N,1)\n",
    "- **X.T** là ma trận chuyển vị của **X** biểu diễn N điểm dữ liệu với 2 đặt trưng là 2 cột x[i,1] và x[i,2] - shape(N, 2)\n",
    "- **w** là vector biểu diễn hệ số cho 2 đặc trưng của **X**- shape(2,1)"
   ]
  },
  {
   "cell_type": "markdown",
   "id": "51b4636b-e533-4a86-abd5-72e091257eba",
   "metadata": {},
   "source": [
    "## 2. Hàm mất mát\n",
    "\n",
    "- Hàm mất mát: đánh giá cho sự khác nhau giữa thực tế và đầu ra thông qua thuật toán.\n",
    "\n",
    "**=> Chúng ta cần làm sao cho hàm mất mát càng thấp càng tốt. Càng thấp có nghĩa là đầu ra dự đoán sẽ càng thấp so với thực tế**"
   ]
  },
  {
   "cell_type": "markdown",
   "id": "3f2216a8-d5e8-457c-b90b-78cdfab6b099",
   "metadata": {},
   "source": [
    "**Hàm mất mát cho thuật toán này sẽ là:**\n",
    "\n",
    "loss = 1/(2N)*(norm2(y - y'))^2\n",
    "\n",
    "- y: đầu ra thực tế\n",
    "- y': đầu ra dự đoán\n",
    "\n",
    "Thay y' = X.T * w => loss = 1/(2N)*(norm2(y - X.T * w))^2\n",
    "\n",
    "**=> Hàm này có ý nghĩa là sự khác nhau giữa y và y'**\n",
    "\n",
    "**=> Mục tiêu sẽ là tìm *w* sao cho hàm loss đạt giá trị nhỏ nhất**\n",
    "\n"
   ]
  },
  {
   "cell_type": "markdown",
   "id": "dd639b5a-28af-49ea-8245-5418b0754c19",
   "metadata": {},
   "source": [
    "### Giải hàm l(w) = 1/(2N)*(norm2(y - X.T * w))^2\n",
    "\n",
    "- Đầu tiên chúng ta sẽ đi đạo hàm hàm loss trên:\n",
    "  \n",
    "  l'(w) = 1/N * X.T * ( X * w - y) = 0\n",
    "  \n",
    "   => X.T * X * w - X * y = 0\n",
    "\n",
    "  <=> w = X * y / (X.T * X)\n",
    "\n",
    "  ***Với điều kiện***\n",
    "\n",
    "  - X.T * X là ma trận khả nghịch thì bài toán trên sẽ có nghiệm duy nhất - ma trận khả nghịch là ma trận có thể nghịch đảo.\n",
    "  - Nếu không phải là ma trận khả nghịch thì bài toán trên sẽ vô nghiệm hoặc có vô số nghiệm.\n",
    "  "
   ]
  },
  {
   "cell_type": "code",
   "execution_count": null,
   "id": "ef58bd70-0afb-47d5-bc3d-d6ccc11c17d8",
   "metadata": {},
   "outputs": [],
   "source": []
  }
 ],
 "metadata": {
  "kernelspec": {
   "display_name": "Python 3 (ipykernel)",
   "language": "python",
   "name": "python3"
  },
  "language_info": {
   "codemirror_mode": {
    "name": "ipython",
    "version": 3
   },
   "file_extension": ".py",
   "mimetype": "text/x-python",
   "name": "python",
   "nbconvert_exporter": "python",
   "pygments_lexer": "ipython3",
   "version": "3.11.9"
  }
 },
 "nbformat": 4,
 "nbformat_minor": 5
}
